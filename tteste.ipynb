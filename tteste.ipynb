{
 "cells": [
  {
   "cell_type": "code",
   "execution_count": 1,
   "id": "c31ae949",
   "metadata": {
    "ExecuteTime": {
     "end_time": "2022-02-06T14:15:46.072423Z",
     "start_time": "2022-02-06T14:15:46.053435Z"
    }
   },
   "outputs": [
    {
     "name": "stdout",
     "output_type": "stream",
     "text": [
      "Vem comigo vou contigo\n"
     ]
    }
   ],
   "source": [
    "print('Vem comigo vou contigo')"
   ]
  },
  {
   "cell_type": "code",
   "execution_count": null,
   "id": "d70e02bf",
   "metadata": {},
   "outputs": [],
   "source": []
  }
 ],
 "metadata": {
  "kernelspec": {
   "display_name": "Python 3 (ipykernel)",
   "language": "python",
   "name": "python3"
  },
  "language_info": {
   "codemirror_mode": {
    "name": "ipython",
    "version": 3
   },
   "file_extension": ".py",
   "mimetype": "text/x-python",
   "name": "python",
   "nbconvert_exporter": "python",
   "pygments_lexer": "ipython3",
   "version": "3.9.7"
  }
 },
 "nbformat": 4,
 "nbformat_minor": 5
}
